{
 "cells": [
  {
   "cell_type": "code",
   "execution_count": null,
   "id": "aadeddaa-3519-48e9-8464-2d5bd0f7a9c5",
   "metadata": {},
   "outputs": [],
   "source": []
  },
  {
   "cell_type": "code",
   "execution_count": null,
   "id": "2d75b75c-4031-4a6c-a281-0ce6b8a23b17",
   "metadata": {},
   "outputs": [],
   "source": [
    "import intake\n",
    "import matplotlib.pyplot as plt\n",
    "cat = intake.open_catalog(\"https://data.nextgems-h2020.eu/online.yaml\")\n",
    "cat.ICON.ngc3028.to_dask().tas.mean(dim=\"cell\").plot()\n",
    "plt.savefig(\"images/tas_ngc3028_minimal.png\")"
   ]
  },
  {
   "cell_type": "code",
   "execution_count": null,
   "id": "368b95e3-f129-4f13-82fb-589ed6a281df",
   "metadata": {},
   "outputs": [],
   "source": [
    "import intake\n",
    "import healpy as hp\n",
    "cat = intake.open_catalog(\"https://data.nextgems-h2020.eu/online.yaml\")\n",
    "hp.mollview(cat.ICON.ngc3028.to_dask().tas.isel(time=0), flip='geo', nest=True)\n",
    "\n",
    "plt.savefig(\"images/healpix_l0.png\")"
   ]
  },
  {
   "cell_type": "code",
   "execution_count": null,
   "id": "e6ef5362-f2e4-4575-8dde-86155d5a66e2",
   "metadata": {},
   "outputs": [],
   "source": [
    "import intake\n",
    "import healpy as hp\n",
    "import matplotlib.pyplot as plt\n",
    "cat = intake.open_catalog(\"https://data.nextgems-h2020.eu/online.yaml\")\n",
    "hp.mollview(cat.ICON.ngc3028(zoom=5).to_dask().tas.isel(time=0), flip='geo', nest=True, cmap='inferno')\n",
    "\n",
    "plt.savefig(\"images/healpix_l5.png\")"
   ]
  },
  {
   "cell_type": "code",
   "execution_count": null,
   "id": "7cfd0d97-6f89-4ae2-8510-cd1887abe110",
   "metadata": {},
   "outputs": [],
   "source": [
    "import intake\n",
    "import healpy as hp\n",
    "import pandas as pd\n",
    "\n",
    "cat = intake.open_catalog(\"https://data.nextgems-h2020.eu/online.yaml\")\n",
    "zoom = 5\n",
    "phi=([53.5, 60.3251229])\n",
    "theta = ([10, 24.7303234])\n",
    "cells = hp.ang2pix(theta=theta, phi=phi, nside=hp.order2nside(zoom), lonlat=True, nest=True)\n",
    "tas = cat.ICON.ngc3028(zoom=zoom).to_dask().tas.isel(cell = cells)\n",
    "df = pd.DataFrame( dict(Hamburg=tas.isel(cell=0), Korpilampi=tas.isel(cell=1)), index=tas.time)\n",
    "df.plot()"
   ]
  },
  {
   "cell_type": "code",
   "execution_count": null,
   "id": "fc0638ed-5ff9-486a-aefb-8d8e3c549dfc",
   "metadata": {},
   "outputs": [],
   "source": [
    "from easygems.healpix import attach_coords\n",
    "ds = cat.ICON.ngc3028(zoom=5).to_dask().pipe(attach_coords)\n",
    "latgroups = ds.tas.isel(time=0).groupby('lat')\n",
    "latgroups.mean().plot()\n",
    "plt.xlim((-90,90))\n",
    "plt.savefig(\"images/tas_vs_lat.png\")"
   ]
  },
  {
   "cell_type": "code",
   "execution_count": null,
   "id": "35e02882-d60c-49b6-8134-945f914a41da",
   "metadata": {},
   "outputs": [],
   "source": [
    "from easygems.healpix import attach_coords\n",
    "ds = cat.ICON.ngc3028(zoom=5).to_dask().pipe(attach_coords)\n",
    "longroups = ds.tas.isel(time=0).groupby('lon')\n",
    "longroups.mean().plot()\n"
   ]
  },
  {
   "cell_type": "code",
   "execution_count": null,
   "id": "507bf5e3-68d0-482f-9420-c79703cac144",
   "metadata": {},
   "outputs": [],
   "source": [
    "import seaborn as sns\n",
    "sns.violinplot(data=df)"
   ]
  },
  {
   "cell_type": "code",
   "execution_count": null,
   "id": "faf9092f-1d67-4f6f-a75a-ac09fefadbd2",
   "metadata": {},
   "outputs": [],
   "source": [
    "world=cat.ICON.ngc3028(zoom=zoom).to_dask().tas.isel(time=0)\n",
    "world[cells]= 4e2\n",
    "hp.mollview(world, flip='geo', nest=True, cmap='inferno')\n",
    "plt.savefig(\"images/position_check.png\")"
   ]
  },
  {
   "cell_type": "code",
   "execution_count": null,
   "id": "594000e3-46c0-4d99-a4ee-930db9011bb6",
   "metadata": {},
   "outputs": [],
   "source": [
    "plt.figure(figsize=(7,7))\n",
    "sns.scatterplot(df, x=\"Hamburg\",y=\"Korpilampi\", hue=df.index.month, palette=sns.color_palette(\"husl\", 12))\n",
    "plt.xlim(plt.ylim())\n",
    "plt.savefig(\"images/scatterplot.png\")"
   ]
  },
  {
   "cell_type": "code",
   "execution_count": null,
   "id": "67fd698a-e73e-47f4-bfff-7b5a70e0d273",
   "metadata": {},
   "outputs": [],
   "source": [
    "df.index.month"
   ]
  },
  {
   "cell_type": "code",
   "execution_count": null,
   "id": "7e7c02b9-4feb-4efb-81b9-f684f408b00e",
   "metadata": {},
   "outputs": [],
   "source": [
    "from easygems.healpix import attach_coords\n",
    "ds = cat.ICON.ngc3028(zoom=5).to_dask().pipe(attach_coords)\n",
    "latgroups = ds.ta.isel(time=0).groupby('lat')\n",
    "lgm = latgroups.mean()\n",
    "lgm.plot(cmap=\"inferno\")\n",
    "plt.xlim((-90,90))\n",
    "plt.savefig(\"images/vert_sec_bad.png\")"
   ]
  },
  {
   "cell_type": "code",
   "execution_count": null,
   "id": "370e9b8e-d4d5-499c-aa44-8696e49d31ce",
   "metadata": {},
   "outputs": [],
   "source": [
    "lgm.plot(cmap=\"inferno\")\n",
    "plt.ylim(plt.ylim()[::-1])\n",
    "plt.savefig(\"images/vert_sec_flipped.png\")"
   ]
  },
  {
   "cell_type": "code",
   "execution_count": null,
   "id": "624d9fc9-c30e-4da5-a5b0-f1454371ed4c",
   "metadata": {},
   "outputs": [],
   "source": [
    "plt.pcolormesh(lgm, cmap=\"inferno\")"
   ]
  },
  {
   "cell_type": "code",
   "execution_count": null,
   "id": "9daed083-257d-473a-a344-c714bb9016d1",
   "metadata": {},
   "outputs": [],
   "source": [
    "hera_cat = intake.open_catalog(\"https://tcodata.mpimet.mpg.de/internal.yaml\")\n",
    "hera = hera_cat.HERA5.to_dask().pipe(attach_coords)\n",
    "# Contains modified Copernicus Climate Change Service information 2023. Neither the European Commission nor ECMWF is responsible for any use that may be made of the Copernicus information or data it contains."
   ]
  },
  {
   "cell_type": "code",
   "execution_count": null,
   "id": "9d70a56f-cdd9-4314-8a39-cc6d73e497fc",
   "metadata": {},
   "outputs": [],
   "source": [
    "import numpy as np\n",
    "t_mean_model = ds.sel(time=slice(\"2020-02-01\", \"2020-02-29\")).tas.mean(dim=\"time\")\n",
    "t_mean_obs = hp.ud_grade(np.squeeze(hera.sel(time=\"2020-02\")[\"2t\"].values), hp.npix2nside(len(t_mean_model)), order_in = \"nest\", order_out = \"nest\")\n",
    "\n",
    "hp.mollview(t_mean_model-t_mean_obs, flip=\"geo\", nest=True, cmap=\"RdBu_r\", min=-15, max=15)"
   ]
  },
  {
   "cell_type": "code",
   "execution_count": null,
   "id": "51961f29-cecf-444e-8ff3-a43d17bb2cf7",
   "metadata": {},
   "outputs": [],
   "source": [
    "timeslice = slice(\"2020-02-01\", \"2023-01-31\")\n",
    "t_mean_model = ds.sel(time=timeslice).tas.mean(dim=\"time\")\n",
    "t_mean_obs = hp.ud_grade(np.squeeze(hera.sel(time=timeslice)['2t'].mean(dim=\"time\").values), hp.npix2nside(len(t_mean_model)), order_in = \"nest\", order_out = \"nest\")\n",
    "\n",
    "hp.mollview(t_mean_model-t_mean_obs, flip=\"geo\", nest=True, cmap=\"RdBu_r\", min=-5, max=5)"
   ]
  },
  {
   "cell_type": "code",
   "execution_count": null,
   "id": "57ae64a3-a9d4-48fb-bc8c-5e2f0ccd374e",
   "metadata": {},
   "outputs": [],
   "source": [
    "params = dict(flip='geo', nest=True, cmap='inferno', min=216, max=304)\n",
    "hp.mollview(t_mean_model, **params)\n",
    "plt.title(\"model\")\n",
    "hp.mollview(t_mean_obs, **params)\n",
    "plt.title(\"observation\")\n"
   ]
  },
  {
   "cell_type": "code",
   "execution_count": null,
   "id": "2f272d24-ef5d-4eea-95dd-0937effc4d84",
   "metadata": {},
   "outputs": [],
   "source": [
    "print (hera.attrs['acknowledgment'])"
   ]
  },
  {
   "cell_type": "code",
   "execution_count": null,
   "id": "b5d04bd4-20e7-4836-9f1e-d5b6ae4c7343",
   "metadata": {},
   "outputs": [],
   "source": [
    "hera.time"
   ]
  },
  {
   "cell_type": "code",
   "execution_count": null,
   "id": "eb07fd57-2155-4672-8484-03644025808c",
   "metadata": {},
   "outputs": [],
   "source": []
  }
 ],
 "metadata": {
  "kernelspec": {
   "display_name": "Python 3 (ipykernel)",
   "language": "python",
   "name": "python3"
  },
  "language_info": {
   "codemirror_mode": {
    "name": "ipython",
    "version": 3
   },
   "file_extension": ".py",
   "mimetype": "text/x-python",
   "name": "python",
   "nbconvert_exporter": "python",
   "pygments_lexer": "ipython3",
   "version": "3.11.6"
  }
 },
 "nbformat": 4,
 "nbformat_minor": 5
}
